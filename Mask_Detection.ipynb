{
  "nbformat": 4,
  "nbformat_minor": 0,
  "metadata": {
    "colab": {
      "name": "Mask Detection.ipynb",
      "provenance": [],
      "collapsed_sections": [],
      "authorship_tag": "ABX9TyO03VPVjI/DiiemJXTDwmLb"
    },
    "kernelspec": {
      "name": "python3",
      "display_name": "Python 3"
    }
  },
  "cells": [
    {
      "cell_type": "code",
      "metadata": {
        "id": "c0n3AS7tHZLh",
        "colab_type": "code",
        "colab": {
          "base_uri": "https://localhost:8080/",
          "height": 34
        },
        "outputId": "a88ae258-9786-4b31-9dbe-dd5e266f4487"
      },
      "source": [
        "from keras.models import load_model\n",
        "import cv2\n",
        "import numpy as np"
      ],
      "execution_count": 1,
      "outputs": [
        {
          "output_type": "stream",
          "text": [
            "Using TensorFlow backend.\n"
          ],
          "name": "stderr"
        }
      ]
    },
    {
      "cell_type": "code",
      "metadata": {
        "id": "dmTzrQi1IO91",
        "colab_type": "code",
        "colab": {}
      },
      "source": [
        "model = load_model('Model.h5')  #previously saved model\n",
        "\n",
        "face_clsfr=cv2.CascadeClassifier('haarcascade_frontalface_default.xml')\n",
        "\n",
        "source=cv2.VideoCapture(0)\n",
        "\n",
        "labels_dict={0:'With Mask',1:'Without Mask'}\n",
        "color_dict={0:(0,255,0),1:(255,0,0)}"
      ],
      "execution_count": null,
      "outputs": []
    },
    {
      "cell_type": "code",
      "metadata": {
        "id": "NoHBGkm0Ie16",
        "colab_type": "code",
        "colab": {}
      },
      "source": [
        "while(True):\n",
        "\n",
        "    ret,img=source.read()\n",
        "    gray=cv2.cvtColor(img,cv2.COLOR_BGR2GRAY)\n",
        "    faces=face_clsfr.detectMultiScale(gray,1.3,5)  \n",
        "\n",
        "    for x,y,w,h in faces:\n",
        "    \n",
        "        face_img=gray[y:y+w,x:x+w]\n",
        "        resized=cv2.resize(face_img,(100,100))\n",
        "        normalized=resized/255.0\n",
        "        reshaped=np.reshape(normalized,(1,100,100,1))\n",
        "        result=model.predict(reshaped)\n",
        "\n",
        "        label=np.argmax(result,axis=1)[0]\n",
        "      \n",
        "        cv2.rectangle(img,(x,y),(x+w,y+h),color_dict[label],2)\n",
        "        cv2.rectangle(img,(x,y-40),(x+w,y),color_dict[label],-1)\n",
        "        cv2.putText(img, labels_dict[label], (x, y-10),cv2.FONT_HERSHEY_SIMPLEX,0.8,(255,255,255),2)\n",
        "        \n",
        "        \n",
        "    cv2.imshow('LIVE',img)\n",
        "    key=cv2.waitKey(1)\n",
        "    \n",
        "    if(key==27):  #Press Esc to stop\n",
        "        break\n",
        "        \n",
        "cv2.destroyAllWindows()\n",
        "source.release()"
      ],
      "execution_count": null,
      "outputs": []
    }
  ]
}
