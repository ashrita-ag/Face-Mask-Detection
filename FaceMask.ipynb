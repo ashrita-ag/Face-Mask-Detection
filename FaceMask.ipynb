{
  "nbformat": 4,
  "nbformat_minor": 0,
  "metadata": {
    "colab": {
      "name": "FaceMask.ipynb",
      "provenance": [],
      "authorship_tag": "ABX9TyMLA1NFN1qzmsjJRsW4keh2"
    },
    "kernelspec": {
      "name": "python3",
      "display_name": "Python 3"
    },
    "accelerator": "GPU"
  },
  "cells": [
    {
      "cell_type": "code",
      "metadata": {
        "id": "fvcYGIHHUEvE",
        "colab_type": "code",
        "colab": {
          "base_uri": "https://localhost:8080/",
          "height": 121
        },
        "outputId": "79bb9135-953e-4760-a25f-1348b02bb2b7"
      },
      "source": [
        "from google.colab import drive\n",
        "drive.mount('/content/drive')"
      ],
      "execution_count": null,
      "outputs": [
        {
          "output_type": "stream",
          "text": [
            "Go to this URL in a browser: https://accounts.google.com/o/oauth2/auth?client_id=947318989803-6bn6qk8qdgf4n4g3pfee6491hc0brc4i.apps.googleusercontent.com&redirect_uri=urn%3aietf%3awg%3aoauth%3a2.0%3aoob&response_type=code&scope=email%20https%3a%2f%2fwww.googleapis.com%2fauth%2fdocs.test%20https%3a%2f%2fwww.googleapis.com%2fauth%2fdrive%20https%3a%2f%2fwww.googleapis.com%2fauth%2fdrive.photos.readonly%20https%3a%2f%2fwww.googleapis.com%2fauth%2fpeopleapi.readonly\n",
            "\n",
            "Enter your authorization code:\n",
            "··········\n",
            "Mounted at /content/drive\n"
          ],
          "name": "stdout"
        }
      ]
    },
    {
      "cell_type": "code",
      "metadata": {
        "id": "LVSQQRFGUxAm",
        "colab_type": "code",
        "colab": {}
      },
      "source": [
        "drive='/content/drive/My Drive/'  #To shorten the path"
      ],
      "execution_count": null,
      "outputs": []
    },
    {
      "cell_type": "code",
      "metadata": {
        "id": "LJHbkUeLU5B1",
        "colab_type": "code",
        "colab": {
          "base_uri": "https://localhost:8080/",
          "height": 34
        },
        "outputId": "197d03f4-4dab-4861-8929-6d1cbdbd2a07"
      },
      "source": [
        "#Data Preprocessing\n",
        "\n",
        "import cv2\n",
        "import os\n",
        "\n",
        "data_path=drive+'Project Mask/dataset'\n",
        "\n",
        "#To create labels for each category\n",
        "categories=os.listdir(data_path) \n",
        "label=[i for i in range(len(categories))]\n",
        "mapping=dict(zip(categories,label))\n",
        "\n",
        "print(mapping)\n"
      ],
      "execution_count": null,
      "outputs": [
        {
          "output_type": "stream",
          "text": [
            "{'with_mask': 0, 'without_mask': 1}\n"
          ],
          "name": "stdout"
        }
      ]
    },
    {
      "cell_type": "code",
      "metadata": {
        "id": "tSb0CeDjVS7Q",
        "colab_type": "code",
        "colab": {}
      },
      "source": [
        "data = [] \n",
        "ans= []   \n",
        "size=100   #to have same size of image for entire dataset\n",
        "\n",
        "for category in categories :\n",
        "\n",
        "  folder= os.path.join(data_path, category)\n",
        "  images=os.listdir(folder)\n",
        "\n",
        "  for image in images :\n",
        "    image_path=os.path.join(folder,image)\n",
        "    img=cv2.imread(image_path)\n",
        "\n",
        "    gray_scale=cv2.cvtColor(img,cv2.COLOR_BGR2GRAY) \n",
        "    resize_image=cv2.resize(gray_scale,(size,size)) \n",
        "\n",
        "    data.append(resize_image)\n",
        "    ans.append(mapping[category])"
      ],
      "execution_count": null,
      "outputs": []
    },
    {
      "cell_type": "code",
      "metadata": {
        "id": "yaMLe-UKVne3",
        "colab_type": "code",
        "colab": {
          "base_uri": "https://localhost:8080/",
          "height": 50
        },
        "outputId": "127eb2f3-32ea-4752-ce1d-83f6e9aa53a5"
      },
      "source": [
        "import numpy as np\n",
        "from keras.utils import np_utils\n",
        "\n",
        "ans= np.array(ans)\n",
        "data = np.array(data)/255.0   #to normalize the image\n",
        "data=np.reshape(data,(data.shape[0],size,size,1))\n",
        "\n",
        "print(data.shape)\n",
        "ans=np_utils.to_categorical(ans) #one hot encoder"
      ],
      "execution_count": null,
      "outputs": [
        {
          "output_type": "stream",
          "text": [
            "Using TensorFlow backend.\n"
          ],
          "name": "stderr"
        },
        {
          "output_type": "stream",
          "text": [
            "(1376, 100, 100, 1)\n"
          ],
          "name": "stdout"
        }
      ]
    },
    {
      "cell_type": "code",
      "metadata": {
        "id": "h_ajHrAYXGJF",
        "colab_type": "code",
        "colab": {}
      },
      "source": [
        "#Building CNN\n",
        "from keras.models import Sequential\n",
        "from keras.layers import Dense,Activation,Flatten,Dropout\n",
        "from keras.layers import Conv2D,MaxPooling2D\n",
        "from keras.callbacks import ModelCheckpoint\n",
        "\n",
        "model=Sequential()\n",
        "\n",
        "#first CNN layer along with Relu and MaxPooling layers\n",
        "model.add(Conv2D(100,(3,3),input_shape=data.shape[1:]))\n",
        "model.add(Activation('relu'))\n",
        "model.add(MaxPooling2D(pool_size=(2,2)))\n",
        "\n",
        "#second CNN layer along with Relu and MaxPooling layers\n",
        "model.add(Conv2D(100,(3,3)))\n",
        "model.add(Activation('relu'))\n",
        "model.add(MaxPooling2D(pool_size=(2,2)))\n",
        "\n",
        "model.add(Flatten())\n",
        "model.add(Dropout(0.5)) #to prevent overfitting\n",
        "\n",
        "model.add(Dense(50,activation='relu')) #Dense layer of 50 neurons\n",
        "model.add(Dense(2,activation='softmax')) #Final layer with two outputs, one for each category\n",
        "\n",
        "model.compile(loss='binary_crossentropy',optimizer='adam',metrics=['accuracy']) #metric used to judge the performance of model"
      ],
      "execution_count": null,
      "outputs": []
    },
    {
      "cell_type": "code",
      "metadata": {
        "id": "itskyRfWXapS",
        "colab_type": "code",
        "colab": {}
      },
      "source": [
        "from sklearn.model_selection import train_test_split\n",
        "train_data,test_data,train_ans,test_ans=train_test_split(data,ans,test_size=0.1)"
      ],
      "execution_count": null,
      "outputs": []
    },
    {
      "cell_type": "code",
      "metadata": {
        "id": "ktAys6upX5tg",
        "colab_type": "code",
        "colab": {
          "base_uri": "https://localhost:8080/",
          "height": 706
        },
        "outputId": "fa4a1f1c-921f-4d76-e55a-ba4d85461304"
      },
      "source": [
        "checkpoint = ModelCheckpoint('model-{epoch:03d}.model',monitor='val_loss',verbose=0,save_best_only=True,mode='auto')\n",
        "history=model.fit(train_data,train_ans,epochs=20,callbacks=[checkpoint],validation_split=0.2)"
      ],
      "execution_count": null,
      "outputs": [
        {
          "output_type": "stream",
          "text": [
            "Train on 990 samples, validate on 248 samples\n",
            "Epoch 1/20\n",
            "990/990 [==============================] - 2s 2ms/step - loss: 0.7177 - accuracy: 0.4980 - val_loss: 0.6800 - val_accuracy: 0.5282\n",
            "Epoch 2/20\n",
            "990/990 [==============================] - 2s 2ms/step - loss: 0.6472 - accuracy: 0.5808 - val_loss: 0.5988 - val_accuracy: 0.6935\n",
            "Epoch 3/20\n",
            "990/990 [==============================] - 2s 2ms/step - loss: 0.5280 - accuracy: 0.7343 - val_loss: 0.3891 - val_accuracy: 0.8548\n",
            "Epoch 4/20\n",
            "990/990 [==============================] - 2s 2ms/step - loss: 0.3518 - accuracy: 0.8586 - val_loss: 0.3073 - val_accuracy: 0.8629\n",
            "Epoch 5/20\n",
            "990/990 [==============================] - 2s 2ms/step - loss: 0.2560 - accuracy: 0.9040 - val_loss: 0.2351 - val_accuracy: 0.9153\n",
            "Epoch 6/20\n",
            "990/990 [==============================] - 2s 2ms/step - loss: 0.1792 - accuracy: 0.9374 - val_loss: 0.1966 - val_accuracy: 0.9315\n",
            "Epoch 7/20\n",
            "990/990 [==============================] - 2s 2ms/step - loss: 0.1961 - accuracy: 0.9152 - val_loss: 0.2403 - val_accuracy: 0.9073\n",
            "Epoch 8/20\n",
            "990/990 [==============================] - 2s 2ms/step - loss: 0.1414 - accuracy: 0.9535 - val_loss: 0.2615 - val_accuracy: 0.9113\n",
            "Epoch 9/20\n",
            "990/990 [==============================] - 2s 2ms/step - loss: 0.1201 - accuracy: 0.9556 - val_loss: 0.1689 - val_accuracy: 0.9516\n",
            "Epoch 10/20\n",
            "990/990 [==============================] - 2s 2ms/step - loss: 0.0905 - accuracy: 0.9687 - val_loss: 0.1533 - val_accuracy: 0.9435\n",
            "Epoch 11/20\n",
            "990/990 [==============================] - 2s 2ms/step - loss: 0.0625 - accuracy: 0.9838 - val_loss: 0.2183 - val_accuracy: 0.9315\n",
            "Epoch 12/20\n",
            "990/990 [==============================] - 2s 2ms/step - loss: 0.1021 - accuracy: 0.9586 - val_loss: 0.1800 - val_accuracy: 0.9476\n",
            "Epoch 13/20\n",
            "990/990 [==============================] - 2s 2ms/step - loss: 0.0525 - accuracy: 0.9859 - val_loss: 0.1580 - val_accuracy: 0.9516\n",
            "Epoch 14/20\n",
            "990/990 [==============================] - 2s 2ms/step - loss: 0.0315 - accuracy: 0.9909 - val_loss: 0.1492 - val_accuracy: 0.9476\n",
            "Epoch 15/20\n",
            "990/990 [==============================] - 2s 2ms/step - loss: 0.0248 - accuracy: 0.9939 - val_loss: 0.1592 - val_accuracy: 0.9476\n",
            "Epoch 16/20\n",
            "990/990 [==============================] - 2s 2ms/step - loss: 0.0209 - accuracy: 0.9939 - val_loss: 0.1588 - val_accuracy: 0.9516\n",
            "Epoch 17/20\n",
            "990/990 [==============================] - 2s 2ms/step - loss: 0.0190 - accuracy: 0.9970 - val_loss: 0.2098 - val_accuracy: 0.9476\n",
            "Epoch 18/20\n",
            "990/990 [==============================] - 2s 2ms/step - loss: 0.0290 - accuracy: 0.9899 - val_loss: 0.1787 - val_accuracy: 0.9476\n",
            "Epoch 19/20\n",
            "990/990 [==============================] - 2s 2ms/step - loss: 0.0270 - accuracy: 0.9899 - val_loss: 0.1744 - val_accuracy: 0.9516\n",
            "Epoch 20/20\n",
            "990/990 [==============================] - 2s 2ms/step - loss: 0.0153 - accuracy: 0.9980 - val_loss: 0.1720 - val_accuracy: 0.9476\n"
          ],
          "name": "stdout"
        }
      ]
    },
    {
      "cell_type": "code",
      "metadata": {
        "id": "6wrqnlB0ZuKR",
        "colab_type": "code",
        "colab": {
          "base_uri": "https://localhost:8080/",
          "height": 279
        },
        "outputId": "6713d5e5-f31c-408f-dc1a-6b96ea2712cd"
      },
      "source": [
        "from matplotlib import pyplot as plt\n",
        "\n",
        "plt.plot(history.history['loss'],'r',label='Training Loss')\n",
        "plt.plot(history.history['val_loss'],label='Validation Loss')\n",
        "plt.xlabel('Epochs')\n",
        "plt.ylabel('Loss')\n",
        "plt.legend()\n",
        "plt.show()"
      ],
      "execution_count": null,
      "outputs": [
        {
          "output_type": "display_data",
          "data": {
            "image/png": "[encoded data removed]",
            "text/plain": [
              "<Figure size 432x288 with 1 Axes>"
            ]
          },
          "metadata": {
            "tags": [],
            "needs_background": "light"
          }
        }
      ]
    },
    {
      "cell_type": "code",
      "metadata": {
        "id": "px04HDVfZ1u0",
        "colab_type": "code",
        "colab": {
          "base_uri": "https://localhost:8080/",
          "height": 279
        },
        "outputId": "8bc4ccea-b8c0-42cd-80bf-f636062df95b"
      },
      "source": [
        "plt.plot(history.history['accuracy'],'r',label='Training Accuracy')\n",
        "plt.plot(history.history['val_accuracy'],label='Validation Accuracy')\n",
        "plt.xlabel('Epochs')\n",
        "plt.ylabel('Loss')\n",
        "plt.legend()\n",
        "plt.show()"
      ],
      "execution_count": null,
      "outputs": [
        {
          "output_type": "display_data",
          "data": {
            "image/png": "[encoded data removed]",
            "text/plain": [
              "<Figure size 432x288 with 1 Axes>"
            ]
          },
          "metadata": {
            "tags": [],
            "needs_background": "light"
          }
        }
      ]
    },
    {
      "cell_type": "code",
      "metadata": {
        "id": "TN7CuJ9BcQxV",
        "colab_type": "code",
        "colab": {
          "base_uri": "https://localhost:8080/",
          "height": 50
        },
        "outputId": "89420e83-1b1d-4da7-e1da-49af8808b531"
      },
      "source": [
        "print(model.evaluate(test_data,test_ans))"
      ],
      "execution_count": null,
      "outputs": [
        {
          "output_type": "stream",
          "text": [
            "138/138 [==============================] - 0s 859us/step\n",
            "[0.1587168966838415, 0.9492753744125366]\n"
          ],
          "name": "stdout"
        }
      ]
    },
    {
      "cell_type": "code",
      "metadata": {
        "id": "WYry81CBerb3",
        "colab_type": "code",
        "colab": {}
      },
      "source": [
        ""
      ],
      "execution_count": null,
      "outputs": []
    }
  ]
}